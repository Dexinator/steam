{
 "cells": [
  {
   "cell_type": "markdown",
   "metadata": {},
   "source": [
    "#ESTUDIO STEAM"
   ]
  },
  {
   "cell_type": "code",
   "execution_count": 4,
   "metadata": {},
   "outputs": [],
   "source": [
    "import urllib.request as Req\n",
    "import pandas as pd\n",
    "from zipfile import ZipFile\n",
    "import seaborn as sns\n",
    "import matplotlib.pyplot as plt\n",
    "import plotly.graph_objects as go\n",
    "import plotly.offline as pyo\n",
    "import matplotlib.ticker as mticker\n",
    "from matplotlib.ticker import FuncFormatter"
   ]
  },
  {
   "cell_type": "code",
   "execution_count": 5,
   "metadata": {},
   "outputs": [],
   "source": [
    "data_zip=ZipFile('./videogames.zip')"
   ]
  },
  {
   "cell_type": "code",
   "execution_count": 6,
   "metadata": {},
   "outputs": [
    {
     "data": {
      "text/plain": [
       "[<ZipInfo filename='steam.csv' compress_type=deflate external_attr=0x20 file_size=3425223 compress_size=979195>]"
      ]
     },
     "execution_count": 6,
     "metadata": {},
     "output_type": "execute_result"
    }
   ],
   "source": [
    "data_zip.filelist"
   ]
  },
  {
   "cell_type": "code",
   "execution_count": 7,
   "metadata": {},
   "outputs": [],
   "source": [
    "data_file=data_zip.open('steam.csv')"
   ]
  },
  {
   "cell_type": "code",
   "execution_count": 8,
   "metadata": {},
   "outputs": [],
   "source": [
    "steam_games=pd.read_csv(data_file)"
   ]
  },
  {
   "cell_type": "code",
   "execution_count": 9,
   "metadata": {},
   "outputs": [
    {
     "data": {
      "text/html": [
       "<div>\n",
       "<style scoped>\n",
       "    .dataframe tbody tr th:only-of-type {\n",
       "        vertical-align: middle;\n",
       "    }\n",
       "\n",
       "    .dataframe tbody tr th {\n",
       "        vertical-align: top;\n",
       "    }\n",
       "\n",
       "    .dataframe thead th {\n",
       "        text-align: right;\n",
       "    }\n",
       "</style>\n",
       "<table border=\"1\" class=\"dataframe\">\n",
       "  <thead>\n",
       "    <tr style=\"text-align: right;\">\n",
       "      <th></th>\n",
       "      <th>Unnamed: 0</th>\n",
       "      <th>name</th>\n",
       "      <th>release_date</th>\n",
       "      <th>developer</th>\n",
       "      <th>achievements</th>\n",
       "      <th>positive_ratings</th>\n",
       "      <th>negative_ratings</th>\n",
       "      <th>avg_hours_per_user</th>\n",
       "      <th>price</th>\n",
       "      <th>sells</th>\n",
       "      <th>action</th>\n",
       "      <th>adventure</th>\n",
       "      <th>rpg</th>\n",
       "      <th>simulation</th>\n",
       "      <th>strategy</th>\n",
       "      <th>racing</th>\n",
       "      <th>free_to_play</th>\n",
       "      <th>early_access</th>\n",
       "    </tr>\n",
       "  </thead>\n",
       "  <tbody>\n",
       "    <tr>\n",
       "      <th>6867</th>\n",
       "      <td>6867</td>\n",
       "      <td>Murder</td>\n",
       "      <td>2015-10-21</td>\n",
       "      <td>Peter Moorhead</td>\n",
       "      <td>0</td>\n",
       "      <td>132</td>\n",
       "      <td>160</td>\n",
       "      <td>0</td>\n",
       "      <td>0.79€</td>\n",
       "      <td>10000.0</td>\n",
       "      <td>False</td>\n",
       "      <td>True</td>\n",
       "      <td>False</td>\n",
       "      <td>False</td>\n",
       "      <td>False</td>\n",
       "      <td>False</td>\n",
       "      <td>False</td>\n",
       "      <td>False</td>\n",
       "    </tr>\n",
       "  </tbody>\n",
       "</table>\n",
       "</div>"
      ],
      "text/plain": [
       "      Unnamed: 0    name release_date       developer  achievements  \\\n",
       "6867        6867  Murder   2015-10-21  Peter Moorhead             0   \n",
       "\n",
       "      positive_ratings  negative_ratings  avg_hours_per_user  price    sells  \\\n",
       "6867               132               160                   0  0.79€  10000.0   \n",
       "\n",
       "      action  adventure    rpg  simulation  strategy  racing  free_to_play  \\\n",
       "6867   False       True  False       False     False   False         False   \n",
       "\n",
       "      early_access  \n",
       "6867         False  "
      ]
     },
     "execution_count": 9,
     "metadata": {},
     "output_type": "execute_result"
    }
   ],
   "source": [
    "steam_games.sample()"
   ]
  },
  {
   "cell_type": "code",
   "execution_count": 10,
   "metadata": {},
   "outputs": [],
   "source": [
    "steam_games.drop(columns=['Unnamed: 0'], inplace=True)"
   ]
  },
  {
   "cell_type": "code",
   "execution_count": 11,
   "metadata": {},
   "outputs": [
    {
     "data": {
      "text/html": [
       "<div>\n",
       "<style scoped>\n",
       "    .dataframe tbody tr th:only-of-type {\n",
       "        vertical-align: middle;\n",
       "    }\n",
       "\n",
       "    .dataframe tbody tr th {\n",
       "        vertical-align: top;\n",
       "    }\n",
       "\n",
       "    .dataframe thead th {\n",
       "        text-align: right;\n",
       "    }\n",
       "</style>\n",
       "<table border=\"1\" class=\"dataframe\">\n",
       "  <thead>\n",
       "    <tr style=\"text-align: right;\">\n",
       "      <th></th>\n",
       "      <th>name</th>\n",
       "      <th>release_date</th>\n",
       "      <th>developer</th>\n",
       "      <th>achievements</th>\n",
       "      <th>positive_ratings</th>\n",
       "      <th>negative_ratings</th>\n",
       "      <th>avg_hours_per_user</th>\n",
       "      <th>price</th>\n",
       "      <th>sells</th>\n",
       "      <th>action</th>\n",
       "      <th>adventure</th>\n",
       "      <th>rpg</th>\n",
       "      <th>simulation</th>\n",
       "      <th>strategy</th>\n",
       "      <th>racing</th>\n",
       "      <th>free_to_play</th>\n",
       "      <th>early_access</th>\n",
       "    </tr>\n",
       "  </thead>\n",
       "  <tbody>\n",
       "    <tr>\n",
       "      <th>13121</th>\n",
       "      <td>Witches' Legacy: Slumbering Darkness Collector...</td>\n",
       "      <td>2017-02-08</td>\n",
       "      <td>EleFun Games</td>\n",
       "      <td>0</td>\n",
       "      <td>1</td>\n",
       "      <td>0</td>\n",
       "      <td>0</td>\n",
       "      <td>6.99€</td>\n",
       "      <td>10000.0</td>\n",
       "      <td>False</td>\n",
       "      <td>True</td>\n",
       "      <td>False</td>\n",
       "      <td>False</td>\n",
       "      <td>False</td>\n",
       "      <td>False</td>\n",
       "      <td>False</td>\n",
       "      <td>False</td>\n",
       "    </tr>\n",
       "  </tbody>\n",
       "</table>\n",
       "</div>"
      ],
      "text/plain": [
       "                                                    name release_date  \\\n",
       "13121  Witches' Legacy: Slumbering Darkness Collector...   2017-02-08   \n",
       "\n",
       "          developer  achievements  positive_ratings  negative_ratings  \\\n",
       "13121  EleFun Games             0                 1                 0   \n",
       "\n",
       "       avg_hours_per_user  price    sells  action  adventure    rpg  \\\n",
       "13121                   0  6.99€  10000.0   False       True  False   \n",
       "\n",
       "       simulation  strategy  racing  free_to_play  early_access  \n",
       "13121       False     False   False         False         False  "
      ]
     },
     "execution_count": 11,
     "metadata": {},
     "output_type": "execute_result"
    }
   ],
   "source": [
    "steam_games.sample()"
   ]
  },
  {
   "cell_type": "code",
   "execution_count": 12,
   "metadata": {},
   "outputs": [
    {
     "name": "stdout",
     "output_type": "stream",
     "text": [
      "<class 'pandas.core.frame.DataFrame'>\n",
      "RangeIndex: 27103 entries, 0 to 27102\n",
      "Data columns (total 17 columns):\n",
      " #   Column              Non-Null Count  Dtype  \n",
      "---  ------              --------------  -----  \n",
      " 0   name                27103 non-null  object \n",
      " 1   release_date        27103 non-null  object \n",
      " 2   developer           27102 non-null  object \n",
      " 3   achievements        27103 non-null  int64  \n",
      " 4   positive_ratings    27103 non-null  int64  \n",
      " 5   negative_ratings    27103 non-null  int64  \n",
      " 6   avg_hours_per_user  27103 non-null  int64  \n",
      " 7   price               27103 non-null  object \n",
      " 8   sells               27103 non-null  float64\n",
      " 9   action              27103 non-null  bool   \n",
      " 10  adventure           27103 non-null  bool   \n",
      " 11  rpg                 27103 non-null  bool   \n",
      " 12  simulation          27103 non-null  bool   \n",
      " 13  strategy            27103 non-null  bool   \n",
      " 14  racing              27103 non-null  bool   \n",
      " 15  free_to_play        27103 non-null  bool   \n",
      " 16  early_access        27103 non-null  bool   \n",
      "dtypes: bool(8), float64(1), int64(4), object(4)\n",
      "memory usage: 2.1+ MB\n"
     ]
    }
   ],
   "source": [
    "steam_games.info()"
   ]
  },
  {
   "cell_type": "code",
   "execution_count": 13,
   "metadata": {},
   "outputs": [
    {
     "data": {
      "text/plain": [
       "array([False,  True])"
      ]
     },
     "execution_count": 13,
     "metadata": {},
     "output_type": "execute_result"
    }
   ],
   "source": [
    "steam_games.duplicated().unique()"
   ]
  },
  {
   "cell_type": "code",
   "execution_count": 14,
   "metadata": {},
   "outputs": [],
   "source": [
    "steam_games.drop_duplicates(inplace=True)"
   ]
  },
  {
   "cell_type": "code",
   "execution_count": 15,
   "metadata": {},
   "outputs": [
    {
     "data": {
      "text/plain": [
       "array([False])"
      ]
     },
     "execution_count": 15,
     "metadata": {},
     "output_type": "execute_result"
    }
   ],
   "source": [
    "steam_games.duplicated().unique()"
   ]
  },
  {
   "cell_type": "code",
   "execution_count": 16,
   "metadata": {},
   "outputs": [
    {
     "data": {
      "text/html": [
       "<div>\n",
       "<style scoped>\n",
       "    .dataframe tbody tr th:only-of-type {\n",
       "        vertical-align: middle;\n",
       "    }\n",
       "\n",
       "    .dataframe tbody tr th {\n",
       "        vertical-align: top;\n",
       "    }\n",
       "\n",
       "    .dataframe thead th {\n",
       "        text-align: right;\n",
       "    }\n",
       "</style>\n",
       "<table border=\"1\" class=\"dataframe\">\n",
       "  <thead>\n",
       "    <tr style=\"text-align: right;\">\n",
       "      <th></th>\n",
       "      <th>name</th>\n",
       "      <th>release_date</th>\n",
       "      <th>developer</th>\n",
       "      <th>achievements</th>\n",
       "      <th>positive_ratings</th>\n",
       "      <th>negative_ratings</th>\n",
       "      <th>avg_hours_per_user</th>\n",
       "      <th>price</th>\n",
       "      <th>sells</th>\n",
       "      <th>action</th>\n",
       "      <th>adventure</th>\n",
       "      <th>rpg</th>\n",
       "      <th>simulation</th>\n",
       "      <th>strategy</th>\n",
       "      <th>racing</th>\n",
       "      <th>free_to_play</th>\n",
       "      <th>early_access</th>\n",
       "    </tr>\n",
       "  </thead>\n",
       "  <tbody>\n",
       "    <tr>\n",
       "      <th>16572</th>\n",
       "      <td>Wingless</td>\n",
       "      <td>2017-08-22</td>\n",
       "      <td>Kentoo Sp. z o.o.</td>\n",
       "      <td>0</td>\n",
       "      <td>4</td>\n",
       "      <td>1</td>\n",
       "      <td>0</td>\n",
       "      <td>2.99€</td>\n",
       "      <td>10000.0</td>\n",
       "      <td>True</td>\n",
       "      <td>False</td>\n",
       "      <td>False</td>\n",
       "      <td>False</td>\n",
       "      <td>False</td>\n",
       "      <td>False</td>\n",
       "      <td>False</td>\n",
       "      <td>False</td>\n",
       "    </tr>\n",
       "  </tbody>\n",
       "</table>\n",
       "</div>"
      ],
      "text/plain": [
       "           name release_date          developer  achievements  \\\n",
       "16572  Wingless   2017-08-22  Kentoo Sp. z o.o.             0   \n",
       "\n",
       "       positive_ratings  negative_ratings  avg_hours_per_user  price    sells  \\\n",
       "16572                 4                 1                   0  2.99€  10000.0   \n",
       "\n",
       "       action  adventure    rpg  simulation  strategy  racing  free_to_play  \\\n",
       "16572    True      False  False       False     False   False         False   \n",
       "\n",
       "       early_access  \n",
       "16572         False  "
      ]
     },
     "execution_count": 16,
     "metadata": {},
     "output_type": "execute_result"
    }
   ],
   "source": [
    "steam_games.sample()"
   ]
  },
  {
   "cell_type": "code",
   "execution_count": 17,
   "metadata": {},
   "outputs": [
    {
     "data": {
      "text/plain": [
       "Index(['name', 'release_date', 'developer', 'achievements', 'positive_ratings',\n",
       "       'negative_ratings', 'avg_hours_per_user', 'price', 'sells', 'action',\n",
       "       'adventure', 'rpg', 'simulation', 'strategy', 'racing', 'free_to_play',\n",
       "       'early_access'],\n",
       "      dtype='object')"
      ]
     },
     "execution_count": 17,
     "metadata": {},
     "output_type": "execute_result"
    }
   ],
   "source": [
    "steam_games.columns"
   ]
  },
  {
   "cell_type": "code",
   "execution_count": 18,
   "metadata": {},
   "outputs": [],
   "source": [
    "#steam_games.set_index('name', inplace=True, drop=True)"
   ]
  },
  {
   "cell_type": "code",
   "execution_count": 19,
   "metadata": {},
   "outputs": [
    {
     "data": {
      "text/html": [
       "<div>\n",
       "<style scoped>\n",
       "    .dataframe tbody tr th:only-of-type {\n",
       "        vertical-align: middle;\n",
       "    }\n",
       "\n",
       "    .dataframe tbody tr th {\n",
       "        vertical-align: top;\n",
       "    }\n",
       "\n",
       "    .dataframe thead th {\n",
       "        text-align: right;\n",
       "    }\n",
       "</style>\n",
       "<table border=\"1\" class=\"dataframe\">\n",
       "  <thead>\n",
       "    <tr style=\"text-align: right;\">\n",
       "      <th></th>\n",
       "      <th>name</th>\n",
       "      <th>release_date</th>\n",
       "      <th>developer</th>\n",
       "      <th>achievements</th>\n",
       "      <th>positive_ratings</th>\n",
       "      <th>negative_ratings</th>\n",
       "      <th>avg_hours_per_user</th>\n",
       "      <th>price</th>\n",
       "      <th>sells</th>\n",
       "      <th>action</th>\n",
       "      <th>adventure</th>\n",
       "      <th>rpg</th>\n",
       "      <th>simulation</th>\n",
       "      <th>strategy</th>\n",
       "      <th>racing</th>\n",
       "      <th>free_to_play</th>\n",
       "      <th>early_access</th>\n",
       "    </tr>\n",
       "  </thead>\n",
       "  <tbody>\n",
       "    <tr>\n",
       "      <th>15720</th>\n",
       "      <td>Hollowed</td>\n",
       "      <td>2017-11-02</td>\n",
       "      <td>Project Polish Productions</td>\n",
       "      <td>18</td>\n",
       "      <td>92</td>\n",
       "      <td>21</td>\n",
       "      <td>0</td>\n",
       "      <td>0.0€</td>\n",
       "      <td>35000.0</td>\n",
       "      <td>True</td>\n",
       "      <td>True</td>\n",
       "      <td>False</td>\n",
       "      <td>False</td>\n",
       "      <td>False</td>\n",
       "      <td>False</td>\n",
       "      <td>False</td>\n",
       "      <td>False</td>\n",
       "    </tr>\n",
       "  </tbody>\n",
       "</table>\n",
       "</div>"
      ],
      "text/plain": [
       "           name release_date                   developer  achievements  \\\n",
       "15720  Hollowed   2017-11-02  Project Polish Productions            18   \n",
       "\n",
       "       positive_ratings  negative_ratings  avg_hours_per_user price    sells  \\\n",
       "15720                92                21                   0  0.0€  35000.0   \n",
       "\n",
       "       action  adventure    rpg  simulation  strategy  racing  free_to_play  \\\n",
       "15720    True       True  False       False     False   False         False   \n",
       "\n",
       "       early_access  \n",
       "15720         False  "
      ]
     },
     "execution_count": 19,
     "metadata": {},
     "output_type": "execute_result"
    }
   ],
   "source": [
    "steam_games.sample()"
   ]
  },
  {
   "cell_type": "code",
   "execution_count": 20,
   "metadata": {},
   "outputs": [
    {
     "data": {
      "text/plain": [
       "name                  False\n",
       "release_date          False\n",
       "developer              True\n",
       "achievements          False\n",
       "positive_ratings      False\n",
       "negative_ratings      False\n",
       "avg_hours_per_user    False\n",
       "price                 False\n",
       "sells                 False\n",
       "action                False\n",
       "adventure             False\n",
       "rpg                   False\n",
       "simulation            False\n",
       "strategy              False\n",
       "racing                False\n",
       "free_to_play          False\n",
       "early_access          False\n",
       "dtype: bool"
      ]
     },
     "execution_count": 20,
     "metadata": {},
     "output_type": "execute_result"
    }
   ],
   "source": [
    "steam_games.isnull().any()"
   ]
  },
  {
   "cell_type": "code",
   "execution_count": 21,
   "metadata": {},
   "outputs": [
    {
     "data": {
      "text/html": [
       "<div>\n",
       "<style scoped>\n",
       "    .dataframe tbody tr th:only-of-type {\n",
       "        vertical-align: middle;\n",
       "    }\n",
       "\n",
       "    .dataframe tbody tr th {\n",
       "        vertical-align: top;\n",
       "    }\n",
       "\n",
       "    .dataframe thead th {\n",
       "        text-align: right;\n",
       "    }\n",
       "</style>\n",
       "<table border=\"1\" class=\"dataframe\">\n",
       "  <thead>\n",
       "    <tr style=\"text-align: right;\">\n",
       "      <th></th>\n",
       "      <th>name</th>\n",
       "      <th>release_date</th>\n",
       "      <th>developer</th>\n",
       "      <th>achievements</th>\n",
       "      <th>positive_ratings</th>\n",
       "      <th>negative_ratings</th>\n",
       "      <th>avg_hours_per_user</th>\n",
       "      <th>price</th>\n",
       "      <th>sells</th>\n",
       "      <th>action</th>\n",
       "      <th>adventure</th>\n",
       "      <th>rpg</th>\n",
       "      <th>simulation</th>\n",
       "      <th>strategy</th>\n",
       "      <th>racing</th>\n",
       "      <th>free_to_play</th>\n",
       "      <th>early_access</th>\n",
       "    </tr>\n",
       "  </thead>\n",
       "  <tbody>\n",
       "    <tr>\n",
       "      <th>23071</th>\n",
       "      <td>The Battle Of Ages</td>\n",
       "      <td>2018-09-07</td>\n",
       "      <td>NaN</td>\n",
       "      <td>0</td>\n",
       "      <td>2</td>\n",
       "      <td>1</td>\n",
       "      <td>0</td>\n",
       "      <td>3.99€</td>\n",
       "      <td>10000.0</td>\n",
       "      <td>True</td>\n",
       "      <td>False</td>\n",
       "      <td>True</td>\n",
       "      <td>False</td>\n",
       "      <td>False</td>\n",
       "      <td>False</td>\n",
       "      <td>False</td>\n",
       "      <td>True</td>\n",
       "    </tr>\n",
       "  </tbody>\n",
       "</table>\n",
       "</div>"
      ],
      "text/plain": [
       "                     name release_date developer  achievements  \\\n",
       "23071  The Battle Of Ages   2018-09-07       NaN             0   \n",
       "\n",
       "       positive_ratings  negative_ratings  avg_hours_per_user  price    sells  \\\n",
       "23071                 2                 1                   0  3.99€  10000.0   \n",
       "\n",
       "       action  adventure   rpg  simulation  strategy  racing  free_to_play  \\\n",
       "23071    True      False  True       False     False   False         False   \n",
       "\n",
       "       early_access  \n",
       "23071          True  "
      ]
     },
     "execution_count": 21,
     "metadata": {},
     "output_type": "execute_result"
    }
   ],
   "source": [
    "steam_games.loc[steam_games['developer'].isna(),:]"
   ]
  },
  {
   "cell_type": "code",
   "execution_count": 22,
   "metadata": {},
   "outputs": [],
   "source": [
    "steam_games.loc[steam_games['developer'].isna(),'developer']='Sin_nombre'"
   ]
  },
  {
   "cell_type": "code",
   "execution_count": 23,
   "metadata": {},
   "outputs": [
    {
     "data": {
      "text/html": [
       "<div>\n",
       "<style scoped>\n",
       "    .dataframe tbody tr th:only-of-type {\n",
       "        vertical-align: middle;\n",
       "    }\n",
       "\n",
       "    .dataframe tbody tr th {\n",
       "        vertical-align: top;\n",
       "    }\n",
       "\n",
       "    .dataframe thead th {\n",
       "        text-align: right;\n",
       "    }\n",
       "</style>\n",
       "<table border=\"1\" class=\"dataframe\">\n",
       "  <thead>\n",
       "    <tr style=\"text-align: right;\">\n",
       "      <th></th>\n",
       "      <th>name</th>\n",
       "      <th>release_date</th>\n",
       "      <th>developer</th>\n",
       "      <th>achievements</th>\n",
       "      <th>positive_ratings</th>\n",
       "      <th>negative_ratings</th>\n",
       "      <th>avg_hours_per_user</th>\n",
       "      <th>price</th>\n",
       "      <th>sells</th>\n",
       "      <th>action</th>\n",
       "      <th>adventure</th>\n",
       "      <th>rpg</th>\n",
       "      <th>simulation</th>\n",
       "      <th>strategy</th>\n",
       "      <th>racing</th>\n",
       "      <th>free_to_play</th>\n",
       "      <th>early_access</th>\n",
       "    </tr>\n",
       "  </thead>\n",
       "  <tbody>\n",
       "  </tbody>\n",
       "</table>\n",
       "</div>"
      ],
      "text/plain": [
       "Empty DataFrame\n",
       "Columns: [name, release_date, developer, achievements, positive_ratings, negative_ratings, avg_hours_per_user, price, sells, action, adventure, rpg, simulation, strategy, racing, free_to_play, early_access]\n",
       "Index: []"
      ]
     },
     "execution_count": 23,
     "metadata": {},
     "output_type": "execute_result"
    }
   ],
   "source": [
    "steam_games.loc[steam_games['developer'].isna(),:]"
   ]
  },
  {
   "cell_type": "code",
   "execution_count": 24,
   "metadata": {},
   "outputs": [
    {
     "data": {
      "text/html": [
       "<div>\n",
       "<style scoped>\n",
       "    .dataframe tbody tr th:only-of-type {\n",
       "        vertical-align: middle;\n",
       "    }\n",
       "\n",
       "    .dataframe tbody tr th {\n",
       "        vertical-align: top;\n",
       "    }\n",
       "\n",
       "    .dataframe thead th {\n",
       "        text-align: right;\n",
       "    }\n",
       "</style>\n",
       "<table border=\"1\" class=\"dataframe\">\n",
       "  <thead>\n",
       "    <tr style=\"text-align: right;\">\n",
       "      <th></th>\n",
       "      <th>name</th>\n",
       "      <th>release_date</th>\n",
       "      <th>developer</th>\n",
       "      <th>achievements</th>\n",
       "      <th>positive_ratings</th>\n",
       "      <th>negative_ratings</th>\n",
       "      <th>avg_hours_per_user</th>\n",
       "      <th>price</th>\n",
       "      <th>sells</th>\n",
       "      <th>action</th>\n",
       "      <th>adventure</th>\n",
       "      <th>rpg</th>\n",
       "      <th>simulation</th>\n",
       "      <th>strategy</th>\n",
       "      <th>racing</th>\n",
       "      <th>free_to_play</th>\n",
       "      <th>early_access</th>\n",
       "    </tr>\n",
       "  </thead>\n",
       "  <tbody>\n",
       "    <tr>\n",
       "      <th>0</th>\n",
       "      <td>Counter-Strike</td>\n",
       "      <td>2000-11-01</td>\n",
       "      <td>Valve</td>\n",
       "      <td>0</td>\n",
       "      <td>124534</td>\n",
       "      <td>3339</td>\n",
       "      <td>17612</td>\n",
       "      <td>7.19€</td>\n",
       "      <td>15000000.0</td>\n",
       "      <td>True</td>\n",
       "      <td>False</td>\n",
       "      <td>False</td>\n",
       "      <td>False</td>\n",
       "      <td>False</td>\n",
       "      <td>False</td>\n",
       "      <td>False</td>\n",
       "      <td>False</td>\n",
       "    </tr>\n",
       "    <tr>\n",
       "      <th>1</th>\n",
       "      <td>Team Fortress Classic</td>\n",
       "      <td>1999-04-01</td>\n",
       "      <td>Valve</td>\n",
       "      <td>0</td>\n",
       "      <td>3318</td>\n",
       "      <td>633</td>\n",
       "      <td>277</td>\n",
       "      <td>3.99€</td>\n",
       "      <td>7500000.0</td>\n",
       "      <td>True</td>\n",
       "      <td>False</td>\n",
       "      <td>False</td>\n",
       "      <td>False</td>\n",
       "      <td>False</td>\n",
       "      <td>False</td>\n",
       "      <td>False</td>\n",
       "      <td>False</td>\n",
       "    </tr>\n",
       "    <tr>\n",
       "      <th>2</th>\n",
       "      <td>Day of Defeat</td>\n",
       "      <td>2003-05-01</td>\n",
       "      <td>Valve</td>\n",
       "      <td>0</td>\n",
       "      <td>3416</td>\n",
       "      <td>398</td>\n",
       "      <td>187</td>\n",
       "      <td>3.99€</td>\n",
       "      <td>7500000.0</td>\n",
       "      <td>True</td>\n",
       "      <td>False</td>\n",
       "      <td>False</td>\n",
       "      <td>False</td>\n",
       "      <td>False</td>\n",
       "      <td>False</td>\n",
       "      <td>False</td>\n",
       "      <td>False</td>\n",
       "    </tr>\n",
       "    <tr>\n",
       "      <th>3</th>\n",
       "      <td>Deathmatch Classic</td>\n",
       "      <td>2001-06-01</td>\n",
       "      <td>Valve</td>\n",
       "      <td>0</td>\n",
       "      <td>1273</td>\n",
       "      <td>267</td>\n",
       "      <td>258</td>\n",
       "      <td>3.99€</td>\n",
       "      <td>7500000.0</td>\n",
       "      <td>True</td>\n",
       "      <td>False</td>\n",
       "      <td>False</td>\n",
       "      <td>False</td>\n",
       "      <td>False</td>\n",
       "      <td>False</td>\n",
       "      <td>False</td>\n",
       "      <td>False</td>\n",
       "    </tr>\n",
       "    <tr>\n",
       "      <th>4</th>\n",
       "      <td>Half-Life: Opposing Force</td>\n",
       "      <td>1999-11-01</td>\n",
       "      <td>Gearbox Software</td>\n",
       "      <td>0</td>\n",
       "      <td>5250</td>\n",
       "      <td>288</td>\n",
       "      <td>624</td>\n",
       "      <td>3.99€</td>\n",
       "      <td>7500000.0</td>\n",
       "      <td>True</td>\n",
       "      <td>False</td>\n",
       "      <td>False</td>\n",
       "      <td>False</td>\n",
       "      <td>False</td>\n",
       "      <td>False</td>\n",
       "      <td>False</td>\n",
       "      <td>False</td>\n",
       "    </tr>\n",
       "  </tbody>\n",
       "</table>\n",
       "</div>"
      ],
      "text/plain": [
       "                        name release_date         developer  achievements  \\\n",
       "0             Counter-Strike   2000-11-01             Valve             0   \n",
       "1      Team Fortress Classic   1999-04-01             Valve             0   \n",
       "2              Day of Defeat   2003-05-01             Valve             0   \n",
       "3         Deathmatch Classic   2001-06-01             Valve             0   \n",
       "4  Half-Life: Opposing Force   1999-11-01  Gearbox Software             0   \n",
       "\n",
       "   positive_ratings  negative_ratings  avg_hours_per_user  price       sells  \\\n",
       "0            124534              3339               17612  7.19€  15000000.0   \n",
       "1              3318               633                 277  3.99€   7500000.0   \n",
       "2              3416               398                 187  3.99€   7500000.0   \n",
       "3              1273               267                 258  3.99€   7500000.0   \n",
       "4              5250               288                 624  3.99€   7500000.0   \n",
       "\n",
       "   action  adventure    rpg  simulation  strategy  racing  free_to_play  \\\n",
       "0    True      False  False       False     False   False         False   \n",
       "1    True      False  False       False     False   False         False   \n",
       "2    True      False  False       False     False   False         False   \n",
       "3    True      False  False       False     False   False         False   \n",
       "4    True      False  False       False     False   False         False   \n",
       "\n",
       "   early_access  \n",
       "0         False  \n",
       "1         False  \n",
       "2         False  \n",
       "3         False  \n",
       "4         False  "
      ]
     },
     "execution_count": 24,
     "metadata": {},
     "output_type": "execute_result"
    }
   ],
   "source": [
    "steam_games.head(5)"
   ]
  },
  {
   "cell_type": "code",
   "execution_count": 25,
   "metadata": {},
   "outputs": [],
   "source": [
    "steam_games[\"price\"]=steam_games[\"price\"].str.replace(\"€\", \"\").astype(float)"
   ]
  },
  {
   "cell_type": "code",
   "execution_count": 26,
   "metadata": {},
   "outputs": [
    {
     "data": {
      "text/html": [
       "<div>\n",
       "<style scoped>\n",
       "    .dataframe tbody tr th:only-of-type {\n",
       "        vertical-align: middle;\n",
       "    }\n",
       "\n",
       "    .dataframe tbody tr th {\n",
       "        vertical-align: top;\n",
       "    }\n",
       "\n",
       "    .dataframe thead th {\n",
       "        text-align: right;\n",
       "    }\n",
       "</style>\n",
       "<table border=\"1\" class=\"dataframe\">\n",
       "  <thead>\n",
       "    <tr style=\"text-align: right;\">\n",
       "      <th></th>\n",
       "      <th>name</th>\n",
       "      <th>release_date</th>\n",
       "      <th>developer</th>\n",
       "      <th>achievements</th>\n",
       "      <th>positive_ratings</th>\n",
       "      <th>negative_ratings</th>\n",
       "      <th>avg_hours_per_user</th>\n",
       "      <th>price</th>\n",
       "      <th>sells</th>\n",
       "      <th>action</th>\n",
       "      <th>adventure</th>\n",
       "      <th>rpg</th>\n",
       "      <th>simulation</th>\n",
       "      <th>strategy</th>\n",
       "      <th>racing</th>\n",
       "      <th>free_to_play</th>\n",
       "      <th>early_access</th>\n",
       "    </tr>\n",
       "  </thead>\n",
       "  <tbody>\n",
       "    <tr>\n",
       "      <th>22567</th>\n",
       "      <td>Lilipalace</td>\n",
       "      <td>2018-07-13</td>\n",
       "      <td>TUNNEL no.73</td>\n",
       "      <td>0</td>\n",
       "      <td>42</td>\n",
       "      <td>16</td>\n",
       "      <td>0</td>\n",
       "      <td>10.29</td>\n",
       "      <td>10000.0</td>\n",
       "      <td>False</td>\n",
       "      <td>False</td>\n",
       "      <td>True</td>\n",
       "      <td>False</td>\n",
       "      <td>False</td>\n",
       "      <td>False</td>\n",
       "      <td>False</td>\n",
       "      <td>False</td>\n",
       "    </tr>\n",
       "  </tbody>\n",
       "</table>\n",
       "</div>"
      ],
      "text/plain": [
       "             name release_date     developer  achievements  positive_ratings  \\\n",
       "22567  Lilipalace   2018-07-13  TUNNEL no.73             0                42   \n",
       "\n",
       "       negative_ratings  avg_hours_per_user  price    sells  action  \\\n",
       "22567                16                   0  10.29  10000.0   False   \n",
       "\n",
       "       adventure   rpg  simulation  strategy  racing  free_to_play  \\\n",
       "22567      False  True       False     False   False         False   \n",
       "\n",
       "       early_access  \n",
       "22567         False  "
      ]
     },
     "execution_count": 26,
     "metadata": {},
     "output_type": "execute_result"
    }
   ],
   "source": [
    "steam_games.sample()"
   ]
  },
  {
   "cell_type": "code",
   "execution_count": 27,
   "metadata": {},
   "outputs": [],
   "source": [
    "top10_most_played=steam_games.sort_values(by=\"sells\", ascending=False).head(10)"
   ]
  },
  {
   "cell_type": "code",
   "execution_count": 28,
   "metadata": {},
   "outputs": [
    {
     "data": {
      "text/html": [
       "<div>\n",
       "<style scoped>\n",
       "    .dataframe tbody tr th:only-of-type {\n",
       "        vertical-align: middle;\n",
       "    }\n",
       "\n",
       "    .dataframe tbody tr th {\n",
       "        vertical-align: top;\n",
       "    }\n",
       "\n",
       "    .dataframe thead th {\n",
       "        text-align: right;\n",
       "    }\n",
       "</style>\n",
       "<table border=\"1\" class=\"dataframe\">\n",
       "  <thead>\n",
       "    <tr style=\"text-align: right;\">\n",
       "      <th></th>\n",
       "      <th>name</th>\n",
       "      <th>release_date</th>\n",
       "      <th>developer</th>\n",
       "      <th>achievements</th>\n",
       "      <th>positive_ratings</th>\n",
       "      <th>negative_ratings</th>\n",
       "      <th>avg_hours_per_user</th>\n",
       "      <th>price</th>\n",
       "      <th>sells</th>\n",
       "      <th>action</th>\n",
       "      <th>adventure</th>\n",
       "      <th>rpg</th>\n",
       "      <th>simulation</th>\n",
       "      <th>strategy</th>\n",
       "      <th>racing</th>\n",
       "      <th>free_to_play</th>\n",
       "      <th>early_access</th>\n",
       "    </tr>\n",
       "  </thead>\n",
       "  <tbody>\n",
       "    <tr>\n",
       "      <th>22</th>\n",
       "      <td>Dota 2</td>\n",
       "      <td>2013-07-09</td>\n",
       "      <td>Valve</td>\n",
       "      <td>0</td>\n",
       "      <td>863507</td>\n",
       "      <td>142079</td>\n",
       "      <td>23944</td>\n",
       "      <td>0.00</td>\n",
       "      <td>150000000.0</td>\n",
       "      <td>True</td>\n",
       "      <td>False</td>\n",
       "      <td>False</td>\n",
       "      <td>False</td>\n",
       "      <td>True</td>\n",
       "      <td>False</td>\n",
       "      <td>True</td>\n",
       "      <td>False</td>\n",
       "    </tr>\n",
       "    <tr>\n",
       "      <th>12836</th>\n",
       "      <td>PLAYERUNKNOWN'S BATTLEGROUNDS</td>\n",
       "      <td>2017-12-21</td>\n",
       "      <td>PUBG Corporation</td>\n",
       "      <td>37</td>\n",
       "      <td>496184</td>\n",
       "      <td>487076</td>\n",
       "      <td>22938</td>\n",
       "      <td>26.99</td>\n",
       "      <td>75000000.0</td>\n",
       "      <td>True</td>\n",
       "      <td>True</td>\n",
       "      <td>False</td>\n",
       "      <td>False</td>\n",
       "      <td>False</td>\n",
       "      <td>False</td>\n",
       "      <td>False</td>\n",
       "      <td>False</td>\n",
       "    </tr>\n",
       "    <tr>\n",
       "      <th>25</th>\n",
       "      <td>Counter-Strike: Global Offensive</td>\n",
       "      <td>2012-08-21</td>\n",
       "      <td>Valve;Hidden Path Entertainment</td>\n",
       "      <td>167</td>\n",
       "      <td>2644404</td>\n",
       "      <td>402313</td>\n",
       "      <td>22494</td>\n",
       "      <td>0.00</td>\n",
       "      <td>75000000.0</td>\n",
       "      <td>True</td>\n",
       "      <td>False</td>\n",
       "      <td>False</td>\n",
       "      <td>False</td>\n",
       "      <td>False</td>\n",
       "      <td>False</td>\n",
       "      <td>True</td>\n",
       "      <td>False</td>\n",
       "    </tr>\n",
       "    <tr>\n",
       "      <th>19</th>\n",
       "      <td>Team Fortress 2</td>\n",
       "      <td>2007-10-10</td>\n",
       "      <td>Valve</td>\n",
       "      <td>520</td>\n",
       "      <td>515879</td>\n",
       "      <td>34036</td>\n",
       "      <td>8495</td>\n",
       "      <td>0.00</td>\n",
       "      <td>35000000.0</td>\n",
       "      <td>True</td>\n",
       "      <td>False</td>\n",
       "      <td>False</td>\n",
       "      <td>False</td>\n",
       "      <td>False</td>\n",
       "      <td>False</td>\n",
       "      <td>True</td>\n",
       "      <td>False</td>\n",
       "    </tr>\n",
       "    <tr>\n",
       "      <th>3362</th>\n",
       "      <td>Unturned</td>\n",
       "      <td>2017-07-07</td>\n",
       "      <td>Smartly Dressed Games</td>\n",
       "      <td>46</td>\n",
       "      <td>292574</td>\n",
       "      <td>31482</td>\n",
       "      <td>3248</td>\n",
       "      <td>0.00</td>\n",
       "      <td>35000000.0</td>\n",
       "      <td>True</td>\n",
       "      <td>True</td>\n",
       "      <td>False</td>\n",
       "      <td>False</td>\n",
       "      <td>False</td>\n",
       "      <td>False</td>\n",
       "      <td>True</td>\n",
       "      <td>False</td>\n",
       "    </tr>\n",
       "    <tr>\n",
       "      <th>1634</th>\n",
       "      <td>Warframe</td>\n",
       "      <td>2013-03-25</td>\n",
       "      <td>Digital Extremes</td>\n",
       "      <td>187</td>\n",
       "      <td>226541</td>\n",
       "      <td>20268</td>\n",
       "      <td>5845</td>\n",
       "      <td>0.00</td>\n",
       "      <td>35000000.0</td>\n",
       "      <td>True</td>\n",
       "      <td>False</td>\n",
       "      <td>False</td>\n",
       "      <td>False</td>\n",
       "      <td>False</td>\n",
       "      <td>False</td>\n",
       "      <td>True</td>\n",
       "      <td>False</td>\n",
       "    </tr>\n",
       "    <tr>\n",
       "      <th>0</th>\n",
       "      <td>Counter-Strike</td>\n",
       "      <td>2000-11-01</td>\n",
       "      <td>Valve</td>\n",
       "      <td>0</td>\n",
       "      <td>124534</td>\n",
       "      <td>3339</td>\n",
       "      <td>17612</td>\n",
       "      <td>7.19</td>\n",
       "      <td>15000000.0</td>\n",
       "      <td>True</td>\n",
       "      <td>False</td>\n",
       "      <td>False</td>\n",
       "      <td>False</td>\n",
       "      <td>False</td>\n",
       "      <td>False</td>\n",
       "      <td>False</td>\n",
       "      <td>False</td>\n",
       "    </tr>\n",
       "    <tr>\n",
       "      <th>23</th>\n",
       "      <td>Portal 2</td>\n",
       "      <td>2011-04-18</td>\n",
       "      <td>Valve</td>\n",
       "      <td>51</td>\n",
       "      <td>138220</td>\n",
       "      <td>1891</td>\n",
       "      <td>1102</td>\n",
       "      <td>7.19</td>\n",
       "      <td>15000000.0</td>\n",
       "      <td>True</td>\n",
       "      <td>True</td>\n",
       "      <td>False</td>\n",
       "      <td>False</td>\n",
       "      <td>False</td>\n",
       "      <td>False</td>\n",
       "      <td>False</td>\n",
       "      <td>False</td>\n",
       "    </tr>\n",
       "    <tr>\n",
       "      <th>7809</th>\n",
       "      <td>Z1 Battle Royale</td>\n",
       "      <td>2018-02-28</td>\n",
       "      <td>NantG</td>\n",
       "      <td>0</td>\n",
       "      <td>111434</td>\n",
       "      <td>91664</td>\n",
       "      <td>3142</td>\n",
       "      <td>0.00</td>\n",
       "      <td>15000000.0</td>\n",
       "      <td>True</td>\n",
       "      <td>True</td>\n",
       "      <td>False</td>\n",
       "      <td>False</td>\n",
       "      <td>False</td>\n",
       "      <td>False</td>\n",
       "      <td>True</td>\n",
       "      <td>False</td>\n",
       "    </tr>\n",
       "    <tr>\n",
       "      <th>8129</th>\n",
       "      <td>Paladins®</td>\n",
       "      <td>2018-05-08</td>\n",
       "      <td>Evil Mojo Games</td>\n",
       "      <td>58</td>\n",
       "      <td>169580</td>\n",
       "      <td>32407</td>\n",
       "      <td>1595</td>\n",
       "      <td>0.00</td>\n",
       "      <td>15000000.0</td>\n",
       "      <td>True</td>\n",
       "      <td>False</td>\n",
       "      <td>False</td>\n",
       "      <td>False</td>\n",
       "      <td>False</td>\n",
       "      <td>False</td>\n",
       "      <td>True</td>\n",
       "      <td>False</td>\n",
       "    </tr>\n",
       "  </tbody>\n",
       "</table>\n",
       "</div>"
      ],
      "text/plain": [
       "                                   name release_date  \\\n",
       "22                               Dota 2   2013-07-09   \n",
       "12836     PLAYERUNKNOWN'S BATTLEGROUNDS   2017-12-21   \n",
       "25     Counter-Strike: Global Offensive   2012-08-21   \n",
       "19                      Team Fortress 2   2007-10-10   \n",
       "3362                           Unturned   2017-07-07   \n",
       "1634                           Warframe   2013-03-25   \n",
       "0                        Counter-Strike   2000-11-01   \n",
       "23                             Portal 2   2011-04-18   \n",
       "7809                   Z1 Battle Royale   2018-02-28   \n",
       "8129                          Paladins®   2018-05-08   \n",
       "\n",
       "                             developer  achievements  positive_ratings  \\\n",
       "22                               Valve             0            863507   \n",
       "12836                 PUBG Corporation            37            496184   \n",
       "25     Valve;Hidden Path Entertainment           167           2644404   \n",
       "19                               Valve           520            515879   \n",
       "3362             Smartly Dressed Games            46            292574   \n",
       "1634                  Digital Extremes           187            226541   \n",
       "0                                Valve             0            124534   \n",
       "23                               Valve            51            138220   \n",
       "7809                             NantG             0            111434   \n",
       "8129                   Evil Mojo Games            58            169580   \n",
       "\n",
       "       negative_ratings  avg_hours_per_user  price        sells  action  \\\n",
       "22               142079               23944   0.00  150000000.0    True   \n",
       "12836            487076               22938  26.99   75000000.0    True   \n",
       "25               402313               22494   0.00   75000000.0    True   \n",
       "19                34036                8495   0.00   35000000.0    True   \n",
       "3362              31482                3248   0.00   35000000.0    True   \n",
       "1634              20268                5845   0.00   35000000.0    True   \n",
       "0                  3339               17612   7.19   15000000.0    True   \n",
       "23                 1891                1102   7.19   15000000.0    True   \n",
       "7809              91664                3142   0.00   15000000.0    True   \n",
       "8129              32407                1595   0.00   15000000.0    True   \n",
       "\n",
       "       adventure    rpg  simulation  strategy  racing  free_to_play  \\\n",
       "22         False  False       False      True   False          True   \n",
       "12836       True  False       False     False   False         False   \n",
       "25         False  False       False     False   False          True   \n",
       "19         False  False       False     False   False          True   \n",
       "3362        True  False       False     False   False          True   \n",
       "1634       False  False       False     False   False          True   \n",
       "0          False  False       False     False   False         False   \n",
       "23          True  False       False     False   False         False   \n",
       "7809        True  False       False     False   False          True   \n",
       "8129       False  False       False     False   False          True   \n",
       "\n",
       "       early_access  \n",
       "22            False  \n",
       "12836         False  \n",
       "25            False  \n",
       "19            False  \n",
       "3362          False  \n",
       "1634          False  \n",
       "0             False  \n",
       "23            False  \n",
       "7809          False  \n",
       "8129          False  "
      ]
     },
     "execution_count": 28,
     "metadata": {},
     "output_type": "execute_result"
    }
   ],
   "source": [
    "top10_most_played"
   ]
  },
  {
   "cell_type": "code",
   "execution_count": 29,
   "metadata": {},
   "outputs": [
    {
     "data": {
      "image/png": "[encoded data removed]",
      "text/plain": [
       "<Figure size 2000x500 with 1 Axes>"
      ]
     },
     "metadata": {},
     "output_type": "display_data"
    }
   ],
   "source": [
    "g=sns.catplot(data=top10_most_played, x=\"name\",y=\"sells\",\n",
    "               kind='bar', hue=\"name\", palette='bright', edgecolor='black',)\n",
    "g.figure.set_size_inches(20,5)\n",
    "g.figure.suptitle('Top 10 más jugados')\n",
    "g.set_axis_labels(\"Nombre\", \"Ventas (en millones)\")\n",
    "# Disable scientific notation on y-axis\n",
    "ax = g.ax  # Access the main axes\n",
    "ax.yaxis.set_major_formatter(mticker.FuncFormatter(lambda x, _: f'{x / 1e6:.0f}M')) # Force plain numbers\n",
    "\n",
    "plt.xticks(rotation=45, ha='right')\n",
    "plt.show()"
   ]
  },
  {
   "cell_type": "code",
   "execution_count": 30,
   "metadata": {},
   "outputs": [
    {
     "name": "stdout",
     "output_type": "stream",
     "text": [
      "Index(['action', 'adventure', 'rpg', 'simulation', 'strategy', 'racing',\n",
      "       'free_to_play', 'early_access'],\n",
      "      dtype='object')\n"
     ]
    }
   ],
   "source": [
    "genres=steam_games.columns[9:]\n",
    "print(genres)"
   ]
  },
  {
   "cell_type": "code",
   "execution_count": 31,
   "metadata": {},
   "outputs": [
    {
     "data": {
      "text/plain": [
       "np.True_"
      ]
     },
     "execution_count": 31,
     "metadata": {},
     "output_type": "execute_result"
    }
   ],
   "source": [
    "steam_games.loc[steam_games.index[0], \"action\"]"
   ]
  },
  {
   "cell_type": "code",
   "execution_count": 32,
   "metadata": {},
   "outputs": [
    {
     "data": {
      "text/plain": [
       "27074"
      ]
     },
     "execution_count": 32,
     "metadata": {},
     "output_type": "execute_result"
    }
   ],
   "source": [
    "len(steam_games.index)-1"
   ]
  },
  {
   "cell_type": "code",
   "execution_count": 33,
   "metadata": {},
   "outputs": [],
   "source": [
    "sales_per_genre={key:0 for key in genres}\n",
    "for i in range(0,len(steam_games.index)-1):\n",
    "    for genre in genres:\n",
    "        if steam_games.loc[steam_games.index[i], genre]==True:\n",
    "            sales_per_genre[genre]+=steam_games.loc[steam_games.index[i], \"sells\"]\n",
    "    "
   ]
  },
  {
   "cell_type": "code",
   "execution_count": 34,
   "metadata": {},
   "outputs": [
    {
     "data": {
      "text/plain": [
       "{'action': np.float64(2361690000.0),\n",
       " 'adventure': np.float64(1101735000.0),\n",
       " 'rpg': np.float64(696865000.0),\n",
       " 'simulation': np.float64(525950000.0),\n",
       " 'strategy': np.float64(768050000.0),\n",
       " 'racing': np.float64(86300000.0),\n",
       " 'free_to_play': np.float64(1009905000.0),\n",
       " 'early_access': np.float64(155505000.0)}"
      ]
     },
     "execution_count": 34,
     "metadata": {},
     "output_type": "execute_result"
    }
   ],
   "source": [
    "sales_per_genre"
   ]
  },
  {
   "cell_type": "code",
   "execution_count": 35,
   "metadata": {},
   "outputs": [
    {
     "data": {
      "image/png": "[encoded data removed]",
      "text/plain": [
       "<Figure size 640x480 with 1 Axes>"
      ]
     },
     "metadata": {},
     "output_type": "display_data"
    }
   ],
   "source": [
    "plt.bar(*zip(*sales_per_genre.items()))\n",
    "plt.gca().yaxis.set_major_formatter(FuncFormatter(lambda x, _: f'{x / 1e6:.0f}M'))\n",
    "plt.xticks(rotation=45, ha='right')\n",
    "plt.show()"
   ]
  },
  {
   "cell_type": "code",
   "execution_count": 36,
   "metadata": {},
   "outputs": [],
   "source": [
    "steam_games['total_ratings']=steam_games['negative_ratings']+steam_games['positive_ratings']\n",
    "steam_games['%positive_reviews']=steam_games['positive_ratings']/steam_games['total_ratings']\n",
    "steam_games['%negative_reviews']=steam_games['negative_ratings']/steam_games['total_ratings']\n",
    "steam_games['positive_participation']=steam_games['positive_ratings']/steam_games['sells']\n",
    "steam_games['negative_participation']=steam_games['negative_ratings']/steam_games['sells']"
   ]
  },
  {
   "cell_type": "code",
   "execution_count": 37,
   "metadata": {},
   "outputs": [
    {
     "data": {
      "text/html": [
       "<div>\n",
       "<style scoped>\n",
       "    .dataframe tbody tr th:only-of-type {\n",
       "        vertical-align: middle;\n",
       "    }\n",
       "\n",
       "    .dataframe tbody tr th {\n",
       "        vertical-align: top;\n",
       "    }\n",
       "\n",
       "    .dataframe thead th {\n",
       "        text-align: right;\n",
       "    }\n",
       "</style>\n",
       "<table border=\"1\" class=\"dataframe\">\n",
       "  <thead>\n",
       "    <tr style=\"text-align: right;\">\n",
       "      <th></th>\n",
       "      <th>name</th>\n",
       "      <th>release_date</th>\n",
       "      <th>developer</th>\n",
       "      <th>achievements</th>\n",
       "      <th>positive_ratings</th>\n",
       "      <th>negative_ratings</th>\n",
       "      <th>avg_hours_per_user</th>\n",
       "      <th>price</th>\n",
       "      <th>sells</th>\n",
       "      <th>action</th>\n",
       "      <th>...</th>\n",
       "      <th>simulation</th>\n",
       "      <th>strategy</th>\n",
       "      <th>racing</th>\n",
       "      <th>free_to_play</th>\n",
       "      <th>early_access</th>\n",
       "      <th>total_ratings</th>\n",
       "      <th>%positive_reviews</th>\n",
       "      <th>%negative_reviews</th>\n",
       "      <th>positive_participation</th>\n",
       "      <th>negative_participation</th>\n",
       "    </tr>\n",
       "  </thead>\n",
       "  <tbody>\n",
       "    <tr>\n",
       "      <th>10583</th>\n",
       "      <td>Flying Baron 1916</td>\n",
       "      <td>2016-11-11</td>\n",
       "      <td>magnussoft</td>\n",
       "      <td>0</td>\n",
       "      <td>0</td>\n",
       "      <td>6</td>\n",
       "      <td>0</td>\n",
       "      <td>10.99</td>\n",
       "      <td>10000.0</td>\n",
       "      <td>True</td>\n",
       "      <td>...</td>\n",
       "      <td>True</td>\n",
       "      <td>False</td>\n",
       "      <td>False</td>\n",
       "      <td>False</td>\n",
       "      <td>False</td>\n",
       "      <td>6</td>\n",
       "      <td>0.0</td>\n",
       "      <td>1.0</td>\n",
       "      <td>0.0</td>\n",
       "      <td>0.0006</td>\n",
       "    </tr>\n",
       "  </tbody>\n",
       "</table>\n",
       "<p>1 rows × 22 columns</p>\n",
       "</div>"
      ],
      "text/plain": [
       "                    name release_date   developer  achievements  \\\n",
       "10583  Flying Baron 1916   2016-11-11  magnussoft             0   \n",
       "\n",
       "       positive_ratings  negative_ratings  avg_hours_per_user  price    sells  \\\n",
       "10583                 0                 6                   0  10.99  10000.0   \n",
       "\n",
       "       action  ...  simulation  strategy  racing  free_to_play  early_access  \\\n",
       "10583    True  ...        True     False   False         False         False   \n",
       "\n",
       "       total_ratings  %positive_reviews  %negative_reviews  \\\n",
       "10583              6                0.0                1.0   \n",
       "\n",
       "       positive_participation  negative_participation  \n",
       "10583                     0.0                  0.0006  \n",
       "\n",
       "[1 rows x 22 columns]"
      ]
     },
     "execution_count": 37,
     "metadata": {},
     "output_type": "execute_result"
    }
   ],
   "source": [
    "steam_games.sample()"
   ]
  },
  {
   "cell_type": "code",
   "execution_count": 38,
   "metadata": {},
   "outputs": [],
   "source": [
    "sum_reviews={key:0 for key in genres}\n",
    "amount_reviews={key:0 for key in genres}\n",
    "for i in range(0,len(steam_games.index)-1):\n",
    "    for genre in genres:\n",
    "        if steam_games.loc[steam_games.index[i], genre]==True:\n",
    "            sum_reviews[genre]+=steam_games.loc[steam_games.index[i], '%positive_reviews']\n",
    "            amount_reviews[genre]+=1"
   ]
  },
  {
   "cell_type": "code",
   "execution_count": 39,
   "metadata": {},
   "outputs": [
    {
     "data": {
      "text/html": [
       "<div>\n",
       "<style scoped>\n",
       "    .dataframe tbody tr th:only-of-type {\n",
       "        vertical-align: middle;\n",
       "    }\n",
       "\n",
       "    .dataframe tbody tr th {\n",
       "        vertical-align: top;\n",
       "    }\n",
       "\n",
       "    .dataframe thead th {\n",
       "        text-align: right;\n",
       "    }\n",
       "</style>\n",
       "<table border=\"1\" class=\"dataframe\">\n",
       "  <thead>\n",
       "    <tr style=\"text-align: right;\">\n",
       "      <th></th>\n",
       "      <th>number of games</th>\n",
       "      <th>sells</th>\n",
       "      <th>total_ratings</th>\n",
       "      <th>positive_ratings</th>\n",
       "      <th>negative_ratings</th>\n",
       "      <th>%positive_reviews</th>\n",
       "      <th>%negative_reviews</th>\n",
       "      <th>positive_participation</th>\n",
       "      <th>negative_participation</th>\n",
       "    </tr>\n",
       "  </thead>\n",
       "  <tbody>\n",
       "    <tr>\n",
       "      <th>action</th>\n",
       "      <td>0</td>\n",
       "      <td>0</td>\n",
       "      <td>0</td>\n",
       "      <td>0</td>\n",
       "      <td>0</td>\n",
       "      <td>0</td>\n",
       "      <td>0</td>\n",
       "      <td>0</td>\n",
       "      <td>0</td>\n",
       "    </tr>\n",
       "    <tr>\n",
       "      <th>adventure</th>\n",
       "      <td>0</td>\n",
       "      <td>0</td>\n",
       "      <td>0</td>\n",
       "      <td>0</td>\n",
       "      <td>0</td>\n",
       "      <td>0</td>\n",
       "      <td>0</td>\n",
       "      <td>0</td>\n",
       "      <td>0</td>\n",
       "    </tr>\n",
       "    <tr>\n",
       "      <th>rpg</th>\n",
       "      <td>0</td>\n",
       "      <td>0</td>\n",
       "      <td>0</td>\n",
       "      <td>0</td>\n",
       "      <td>0</td>\n",
       "      <td>0</td>\n",
       "      <td>0</td>\n",
       "      <td>0</td>\n",
       "      <td>0</td>\n",
       "    </tr>\n",
       "    <tr>\n",
       "      <th>simulation</th>\n",
       "      <td>0</td>\n",
       "      <td>0</td>\n",
       "      <td>0</td>\n",
       "      <td>0</td>\n",
       "      <td>0</td>\n",
       "      <td>0</td>\n",
       "      <td>0</td>\n",
       "      <td>0</td>\n",
       "      <td>0</td>\n",
       "    </tr>\n",
       "    <tr>\n",
       "      <th>strategy</th>\n",
       "      <td>0</td>\n",
       "      <td>0</td>\n",
       "      <td>0</td>\n",
       "      <td>0</td>\n",
       "      <td>0</td>\n",
       "      <td>0</td>\n",
       "      <td>0</td>\n",
       "      <td>0</td>\n",
       "      <td>0</td>\n",
       "    </tr>\n",
       "    <tr>\n",
       "      <th>racing</th>\n",
       "      <td>0</td>\n",
       "      <td>0</td>\n",
       "      <td>0</td>\n",
       "      <td>0</td>\n",
       "      <td>0</td>\n",
       "      <td>0</td>\n",
       "      <td>0</td>\n",
       "      <td>0</td>\n",
       "      <td>0</td>\n",
       "    </tr>\n",
       "    <tr>\n",
       "      <th>free_to_play</th>\n",
       "      <td>0</td>\n",
       "      <td>0</td>\n",
       "      <td>0</td>\n",
       "      <td>0</td>\n",
       "      <td>0</td>\n",
       "      <td>0</td>\n",
       "      <td>0</td>\n",
       "      <td>0</td>\n",
       "      <td>0</td>\n",
       "    </tr>\n",
       "    <tr>\n",
       "      <th>early_access</th>\n",
       "      <td>0</td>\n",
       "      <td>0</td>\n",
       "      <td>0</td>\n",
       "      <td>0</td>\n",
       "      <td>0</td>\n",
       "      <td>0</td>\n",
       "      <td>0</td>\n",
       "      <td>0</td>\n",
       "      <td>0</td>\n",
       "    </tr>\n",
       "  </tbody>\n",
       "</table>\n",
       "</div>"
      ],
      "text/plain": [
       "              number of games  sells  total_ratings  positive_ratings  \\\n",
       "action                      0      0              0                 0   \n",
       "adventure                   0      0              0                 0   \n",
       "rpg                         0      0              0                 0   \n",
       "simulation                  0      0              0                 0   \n",
       "strategy                    0      0              0                 0   \n",
       "racing                      0      0              0                 0   \n",
       "free_to_play                0      0              0                 0   \n",
       "early_access                0      0              0                 0   \n",
       "\n",
       "              negative_ratings  %positive_reviews  %negative_reviews  \\\n",
       "action                       0                  0                  0   \n",
       "adventure                    0                  0                  0   \n",
       "rpg                          0                  0                  0   \n",
       "simulation                   0                  0                  0   \n",
       "strategy                     0                  0                  0   \n",
       "racing                       0                  0                  0   \n",
       "free_to_play                 0                  0                  0   \n",
       "early_access                 0                  0                  0   \n",
       "\n",
       "              positive_participation  negative_participation  \n",
       "action                             0                       0  \n",
       "adventure                          0                       0  \n",
       "rpg                                0                       0  \n",
       "simulation                         0                       0  \n",
       "strategy                           0                       0  \n",
       "racing                             0                       0  \n",
       "free_to_play                       0                       0  \n",
       "early_access                       0                       0  "
      ]
     },
     "execution_count": 39,
     "metadata": {},
     "output_type": "execute_result"
    }
   ],
   "source": [
    "review_columns=steam_games.columns[-5:].insert(1, 'positive_ratings').insert(2, 'negative_ratings').insert(0, 'sells').insert(0, 'number of games')\n",
    "genre_reviews=pd.DataFrame(0,index=genres, columns=review_columns)\n",
    "genre_reviews"
   ]
  },
  {
   "cell_type": "code",
   "execution_count": 40,
   "metadata": {},
   "outputs": [
    {
     "data": {
      "text/plain": [
       "Index(['sells', 'total_ratings', 'positive_ratings', 'negative_ratings',\n",
       "       '%positive_reviews', '%negative_reviews'],\n",
       "      dtype='object')"
      ]
     },
     "execution_count": 40,
     "metadata": {},
     "output_type": "execute_result"
    }
   ],
   "source": [
    "genre_reviews.loc['action','total_ratings']\n",
    "genre_reviews.columns[1:7]"
   ]
  },
  {
   "cell_type": "code",
   "execution_count": 41,
   "metadata": {},
   "outputs": [
    {
     "name": "stderr",
     "output_type": "stream",
     "text": [
      "C:\\Users\\jbadi\\AppData\\Local\\Temp\\ipykernel_18060\\3109822665.py:6: FutureWarning:\n",
      "\n",
      "Setting an item of incompatible dtype is deprecated and will raise an error in a future version of pandas. Value '0.9738881546534452' has dtype incompatible with int64, please explicitly cast to a compatible dtype first.\n",
      "\n",
      "C:\\Users\\jbadi\\AppData\\Local\\Temp\\ipykernel_18060\\3109822665.py:6: FutureWarning:\n",
      "\n",
      "Setting an item of incompatible dtype is deprecated and will raise an error in a future version of pandas. Value '0.026111845346554786' has dtype incompatible with int64, please explicitly cast to a compatible dtype first.\n",
      "\n"
     ]
    }
   ],
   "source": [
    "for i in range(0,len(steam_games.index)-1):\n",
    "    for genre in genres:\n",
    "        if steam_games.loc[steam_games.index[i], genre]==True:\n",
    "            genre_reviews.loc[genre, 'number of games']+=1\n",
    "            for column in genre_reviews.columns[1:7]:\n",
    "                genre_reviews.loc[genre, column]+=steam_games.loc[steam_games.index[i], column]    "
   ]
  },
  {
   "cell_type": "code",
   "execution_count": 42,
   "metadata": {},
   "outputs": [],
   "source": [
    "genre_reviews['%positive_reviews']=genre_reviews['%positive_reviews']/genre_reviews['number of games']\n",
    "genre_reviews['%negative_reviews']=genre_reviews['%negative_reviews']/genre_reviews['number of games']"
   ]
  },
  {
   "cell_type": "code",
   "execution_count": 43,
   "metadata": {},
   "outputs": [
    {
     "data": {
      "text/plain": [
       "action          0.000060\n",
       "adventure       0.000071\n",
       "rpg             0.000166\n",
       "simulation      0.000127\n",
       "strategy        0.000132\n",
       "racing          0.000652\n",
       "free_to_play    0.000410\n",
       "early_access    0.000238\n",
       "dtype: float64"
      ]
     },
     "execution_count": 43,
     "metadata": {},
     "output_type": "execute_result"
    }
   ],
   "source": [
    "genre_reviews['%positive_reviews']/genre_reviews['number of games']"
   ]
  },
  {
   "cell_type": "code",
   "execution_count": 44,
   "metadata": {},
   "outputs": [
    {
     "data": {
      "text/html": [
       "<div>\n",
       "<style scoped>\n",
       "    .dataframe tbody tr th:only-of-type {\n",
       "        vertical-align: middle;\n",
       "    }\n",
       "\n",
       "    .dataframe tbody tr th {\n",
       "        vertical-align: top;\n",
       "    }\n",
       "\n",
       "    .dataframe thead th {\n",
       "        text-align: right;\n",
       "    }\n",
       "</style>\n",
       "<table border=\"1\" class=\"dataframe\">\n",
       "  <thead>\n",
       "    <tr style=\"text-align: right;\">\n",
       "      <th></th>\n",
       "      <th>number of games</th>\n",
       "      <th>sells</th>\n",
       "      <th>total_ratings</th>\n",
       "      <th>positive_ratings</th>\n",
       "      <th>negative_ratings</th>\n",
       "      <th>%positive_reviews</th>\n",
       "      <th>%negative_reviews</th>\n",
       "      <th>positive_participation</th>\n",
       "      <th>negative_participation</th>\n",
       "    </tr>\n",
       "  </thead>\n",
       "  <tbody>\n",
       "    <tr>\n",
       "      <th>action</th>\n",
       "      <td>11903</td>\n",
       "      <td>2361690000</td>\n",
       "      <td>23076274</td>\n",
       "      <td>18829730</td>\n",
       "      <td>4246544</td>\n",
       "      <td>0.709888</td>\n",
       "      <td>0.290112</td>\n",
       "      <td>0</td>\n",
       "      <td>0</td>\n",
       "    </tr>\n",
       "    <tr>\n",
       "      <th>adventure</th>\n",
       "      <td>10031</td>\n",
       "      <td>1101735000</td>\n",
       "      <td>11063033</td>\n",
       "      <td>8725068</td>\n",
       "      <td>2337965</td>\n",
       "      <td>0.713725</td>\n",
       "      <td>0.286275</td>\n",
       "      <td>0</td>\n",
       "      <td>0</td>\n",
       "    </tr>\n",
       "    <tr>\n",
       "      <th>rpg</th>\n",
       "      <td>4311</td>\n",
       "      <td>696865000</td>\n",
       "      <td>7005218</td>\n",
       "      <td>5805093</td>\n",
       "      <td>1200125</td>\n",
       "      <td>0.716261</td>\n",
       "      <td>0.283739</td>\n",
       "      <td>0</td>\n",
       "      <td>0</td>\n",
       "    </tr>\n",
       "    <tr>\n",
       "      <th>simulation</th>\n",
       "      <td>5194</td>\n",
       "      <td>525950000</td>\n",
       "      <td>5122204</td>\n",
       "      <td>4257312</td>\n",
       "      <td>864892</td>\n",
       "      <td>0.659835</td>\n",
       "      <td>0.340165</td>\n",
       "      <td>0</td>\n",
       "      <td>0</td>\n",
       "    </tr>\n",
       "    <tr>\n",
       "      <th>strategy</th>\n",
       "      <td>5247</td>\n",
       "      <td>768050000</td>\n",
       "      <td>5478947</td>\n",
       "      <td>4533369</td>\n",
       "      <td>945578</td>\n",
       "      <td>0.692914</td>\n",
       "      <td>0.307086</td>\n",
       "      <td>0</td>\n",
       "      <td>0</td>\n",
       "    </tr>\n",
       "    <tr>\n",
       "      <th>racing</th>\n",
       "      <td>1024</td>\n",
       "      <td>86300000</td>\n",
       "      <td>821577</td>\n",
       "      <td>679716</td>\n",
       "      <td>141861</td>\n",
       "      <td>0.667196</td>\n",
       "      <td>0.332804</td>\n",
       "      <td>0</td>\n",
       "      <td>0</td>\n",
       "    </tr>\n",
       "    <tr>\n",
       "      <th>free_to_play</th>\n",
       "      <td>1704</td>\n",
       "      <td>1009905000</td>\n",
       "      <td>8941644</td>\n",
       "      <td>7406653</td>\n",
       "      <td>1534991</td>\n",
       "      <td>0.699454</td>\n",
       "      <td>0.300546</td>\n",
       "      <td>0</td>\n",
       "      <td>0</td>\n",
       "    </tr>\n",
       "    <tr>\n",
       "      <th>early_access</th>\n",
       "      <td>2954</td>\n",
       "      <td>155505000</td>\n",
       "      <td>1505816</td>\n",
       "      <td>1146307</td>\n",
       "      <td>359509</td>\n",
       "      <td>0.702389</td>\n",
       "      <td>0.297611</td>\n",
       "      <td>0</td>\n",
       "      <td>0</td>\n",
       "    </tr>\n",
       "  </tbody>\n",
       "</table>\n",
       "</div>"
      ],
      "text/plain": [
       "              number of games       sells  total_ratings  positive_ratings  \\\n",
       "action                  11903  2361690000       23076274          18829730   \n",
       "adventure               10031  1101735000       11063033           8725068   \n",
       "rpg                      4311   696865000        7005218           5805093   \n",
       "simulation               5194   525950000        5122204           4257312   \n",
       "strategy                 5247   768050000        5478947           4533369   \n",
       "racing                   1024    86300000         821577            679716   \n",
       "free_to_play             1704  1009905000        8941644           7406653   \n",
       "early_access             2954   155505000        1505816           1146307   \n",
       "\n",
       "              negative_ratings  %positive_reviews  %negative_reviews  \\\n",
       "action                 4246544           0.709888           0.290112   \n",
       "adventure              2337965           0.713725           0.286275   \n",
       "rpg                    1200125           0.716261           0.283739   \n",
       "simulation              864892           0.659835           0.340165   \n",
       "strategy                945578           0.692914           0.307086   \n",
       "racing                  141861           0.667196           0.332804   \n",
       "free_to_play           1534991           0.699454           0.300546   \n",
       "early_access            359509           0.702389           0.297611   \n",
       "\n",
       "              positive_participation  negative_participation  \n",
       "action                             0                       0  \n",
       "adventure                          0                       0  \n",
       "rpg                                0                       0  \n",
       "simulation                         0                       0  \n",
       "strategy                           0                       0  \n",
       "racing                             0                       0  \n",
       "free_to_play                       0                       0  \n",
       "early_access                       0                       0  "
      ]
     },
     "execution_count": 44,
     "metadata": {},
     "output_type": "execute_result"
    }
   ],
   "source": [
    "genre_reviews"
   ]
  },
  {
   "cell_type": "code",
   "execution_count": 45,
   "metadata": {},
   "outputs": [
    {
     "data": {
      "image/png": "[encoded data removed]",
      "text/plain": [
       "<Figure size 2000x500 with 1 Axes>"
      ]
     },
     "metadata": {},
     "output_type": "display_data"
    }
   ],
   "source": [
    "g=sns.catplot(data=genre_reviews, x=genre_reviews.index,y=\"%positive_reviews\",\n",
    "               kind='bar', hue=genre_reviews.index, palette='bright', edgecolor='black',)\n",
    "g.figure.set_size_inches(20,5)\n",
    "g.figure.suptitle('AVG % Positive Reviews')\n",
    "g.set_axis_labels(\"Categoría\", \"% Reviews positivas\")\n",
    "# Disable scientific notation on y-axis\n",
    "ax = g.ax  # Access the main axes\n",
    "ax.yaxis.set_major_formatter(mticker.FuncFormatter(lambda x, _: f'{x * 100:.0f}%')) # Force plain numbers\n",
    "ax.set_ylim(0.6, 0.75)\n",
    "\n",
    "plt.xticks(rotation=45, ha='right')\n",
    "plt.show()"
   ]
  },
  {
   "cell_type": "code",
   "execution_count": 46,
   "metadata": {},
   "outputs": [
    {
     "data": {
      "text/html": [
       "<div>\n",
       "<style scoped>\n",
       "    .dataframe tbody tr th:only-of-type {\n",
       "        vertical-align: middle;\n",
       "    }\n",
       "\n",
       "    .dataframe tbody tr th {\n",
       "        vertical-align: top;\n",
       "    }\n",
       "\n",
       "    .dataframe thead th {\n",
       "        text-align: right;\n",
       "    }\n",
       "</style>\n",
       "<table border=\"1\" class=\"dataframe\">\n",
       "  <thead>\n",
       "    <tr style=\"text-align: right;\">\n",
       "      <th></th>\n",
       "      <th>name</th>\n",
       "      <th>release_date</th>\n",
       "      <th>developer</th>\n",
       "      <th>achievements</th>\n",
       "      <th>positive_ratings</th>\n",
       "      <th>negative_ratings</th>\n",
       "      <th>avg_hours_per_user</th>\n",
       "      <th>price</th>\n",
       "      <th>sells</th>\n",
       "      <th>action</th>\n",
       "      <th>...</th>\n",
       "      <th>simulation</th>\n",
       "      <th>strategy</th>\n",
       "      <th>racing</th>\n",
       "      <th>free_to_play</th>\n",
       "      <th>early_access</th>\n",
       "      <th>total_ratings</th>\n",
       "      <th>%positive_reviews</th>\n",
       "      <th>%negative_reviews</th>\n",
       "      <th>positive_participation</th>\n",
       "      <th>negative_participation</th>\n",
       "    </tr>\n",
       "  </thead>\n",
       "  <tbody>\n",
       "    <tr>\n",
       "      <th>4567</th>\n",
       "      <td>Into The Gloom</td>\n",
       "      <td>2015-04-07</td>\n",
       "      <td>earrgames</td>\n",
       "      <td>12</td>\n",
       "      <td>138</td>\n",
       "      <td>35</td>\n",
       "      <td>0</td>\n",
       "      <td>1.99</td>\n",
       "      <td>10000.0</td>\n",
       "      <td>True</td>\n",
       "      <td>...</td>\n",
       "      <td>False</td>\n",
       "      <td>False</td>\n",
       "      <td>False</td>\n",
       "      <td>False</td>\n",
       "      <td>False</td>\n",
       "      <td>173</td>\n",
       "      <td>0.797688</td>\n",
       "      <td>0.202312</td>\n",
       "      <td>0.013800</td>\n",
       "      <td>0.003500</td>\n",
       "    </tr>\n",
       "    <tr>\n",
       "      <th>14175</th>\n",
       "      <td>Gloom</td>\n",
       "      <td>2017-04-13</td>\n",
       "      <td>Hunchback Studio</td>\n",
       "      <td>36</td>\n",
       "      <td>275</td>\n",
       "      <td>48</td>\n",
       "      <td>0</td>\n",
       "      <td>6.99</td>\n",
       "      <td>35000.0</td>\n",
       "      <td>True</td>\n",
       "      <td>...</td>\n",
       "      <td>False</td>\n",
       "      <td>False</td>\n",
       "      <td>False</td>\n",
       "      <td>False</td>\n",
       "      <td>False</td>\n",
       "      <td>323</td>\n",
       "      <td>0.851393</td>\n",
       "      <td>0.148607</td>\n",
       "      <td>0.007857</td>\n",
       "      <td>0.001371</td>\n",
       "    </tr>\n",
       "    <tr>\n",
       "      <th>19154</th>\n",
       "      <td>Gloom: Digital Edition</td>\n",
       "      <td>2018-10-31</td>\n",
       "      <td>Sky Ship Studios</td>\n",
       "      <td>0</td>\n",
       "      <td>16</td>\n",
       "      <td>16</td>\n",
       "      <td>5</td>\n",
       "      <td>5.19</td>\n",
       "      <td>10000.0</td>\n",
       "      <td>False</td>\n",
       "      <td>...</td>\n",
       "      <td>False</td>\n",
       "      <td>True</td>\n",
       "      <td>False</td>\n",
       "      <td>False</td>\n",
       "      <td>False</td>\n",
       "      <td>32</td>\n",
       "      <td>0.500000</td>\n",
       "      <td>0.500000</td>\n",
       "      <td>0.001600</td>\n",
       "      <td>0.001600</td>\n",
       "    </tr>\n",
       "    <tr>\n",
       "      <th>24398</th>\n",
       "      <td>The Lost Legends of Redwall™: Escape the Gloomer</td>\n",
       "      <td>2018-11-16</td>\n",
       "      <td>Soma Games;Clopas LLC</td>\n",
       "      <td>50</td>\n",
       "      <td>6</td>\n",
       "      <td>0</td>\n",
       "      <td>0</td>\n",
       "      <td>5.19</td>\n",
       "      <td>10000.0</td>\n",
       "      <td>False</td>\n",
       "      <td>...</td>\n",
       "      <td>False</td>\n",
       "      <td>False</td>\n",
       "      <td>False</td>\n",
       "      <td>False</td>\n",
       "      <td>False</td>\n",
       "      <td>6</td>\n",
       "      <td>1.000000</td>\n",
       "      <td>0.000000</td>\n",
       "      <td>0.000600</td>\n",
       "      <td>0.000000</td>\n",
       "    </tr>\n",
       "  </tbody>\n",
       "</table>\n",
       "<p>4 rows × 22 columns</p>\n",
       "</div>"
      ],
      "text/plain": [
       "                                                   name release_date  \\\n",
       "4567                                     Into The Gloom   2015-04-07   \n",
       "14175                                             Gloom   2017-04-13   \n",
       "19154                            Gloom: Digital Edition   2018-10-31   \n",
       "24398  The Lost Legends of Redwall™: Escape the Gloomer   2018-11-16   \n",
       "\n",
       "                   developer  achievements  positive_ratings  \\\n",
       "4567               earrgames            12               138   \n",
       "14175       Hunchback Studio            36               275   \n",
       "19154       Sky Ship Studios             0                16   \n",
       "24398  Soma Games;Clopas LLC            50                 6   \n",
       "\n",
       "       negative_ratings  avg_hours_per_user  price    sells  action  ...  \\\n",
       "4567                 35                   0   1.99  10000.0    True  ...   \n",
       "14175                48                   0   6.99  35000.0    True  ...   \n",
       "19154                16                   5   5.19  10000.0   False  ...   \n",
       "24398                 0                   0   5.19  10000.0   False  ...   \n",
       "\n",
       "       simulation  strategy  racing  free_to_play  early_access  \\\n",
       "4567        False     False   False         False         False   \n",
       "14175       False     False   False         False         False   \n",
       "19154       False      True   False         False         False   \n",
       "24398       False     False   False         False         False   \n",
       "\n",
       "       total_ratings  %positive_reviews  %negative_reviews  \\\n",
       "4567             173           0.797688           0.202312   \n",
       "14175            323           0.851393           0.148607   \n",
       "19154             32           0.500000           0.500000   \n",
       "24398              6           1.000000           0.000000   \n",
       "\n",
       "       positive_participation  negative_participation  \n",
       "4567                 0.013800                0.003500  \n",
       "14175                0.007857                0.001371  \n",
       "19154                0.001600                0.001600  \n",
       "24398                0.000600                0.000000  \n",
       "\n",
       "[4 rows x 22 columns]"
      ]
     },
     "execution_count": 46,
     "metadata": {},
     "output_type": "execute_result"
    }
   ],
   "source": [
    "steam_games[steam_games['name'].str.contains('Gloom')]"
   ]
  },
  {
   "cell_type": "code",
   "execution_count": 47,
   "metadata": {},
   "outputs": [
    {
     "data": {
      "text/plain": [
       "action          1.0\n",
       "adventure       1.0\n",
       "rpg             1.0\n",
       "simulation      1.0\n",
       "strategy        1.0\n",
       "racing          1.0\n",
       "free_to_play    1.0\n",
       "early_access    1.0\n",
       "dtype: float64"
      ]
     },
     "execution_count": 47,
     "metadata": {},
     "output_type": "execute_result"
    }
   ],
   "source": [
    "genre_reviews['%positive_reviews']+genre_reviews['%negative_reviews']"
   ]
  },
  {
   "cell_type": "code",
   "execution_count": 48,
   "metadata": {},
   "outputs": [
    {
     "data": {
      "text/plain": [
       "action          0.815978\n",
       "adventure       0.788669\n",
       "rpg             0.828681\n",
       "simulation      0.831148\n",
       "strategy        0.827416\n",
       "racing          0.827331\n",
       "free_to_play    0.828332\n",
       "early_access    0.761253\n",
       "dtype: float64"
      ]
     },
     "execution_count": 48,
     "metadata": {},
     "output_type": "execute_result"
    }
   ],
   "source": [
    "genre_reviews['positive_ratings']/genre_reviews['total_ratings']"
   ]
  },
  {
   "cell_type": "code",
   "execution_count": 49,
   "metadata": {},
   "outputs": [],
   "source": [
    "average_reviews={key:0 for key in genres}\n",
    "for genre in genres:\n",
    "    average_reviews[genre]=sum_reviews[genre]/amount_reviews[genre]"
   ]
  },
  {
   "cell_type": "code",
   "execution_count": 50,
   "metadata": {},
   "outputs": [
    {
     "data": {
      "image/png": "[encoded data removed]",
      "text/plain": [
       "<Figure size 640x480 with 1 Axes>"
      ]
     },
     "metadata": {},
     "output_type": "display_data"
    }
   ],
   "source": [
    "plt.bar(*zip(*average_reviews.items()))\n",
    "plt.xticks(rotation=45, ha='right')\n",
    "plt.title(\"Average Positive Reviews by Category\")  # Add a title\n",
    "plt.xlabel(\"Category\")                   # Label for the x-axis\n",
    "plt.ylabel(\"Average Reviews\")            # Label for the y-axis\n",
    "plt.show()"
   ]
  },
  {
   "cell_type": "code",
   "execution_count": 51,
   "metadata": {},
   "outputs": [],
   "source": [
    "developers=steam_games['developer'].unique()\n",
    "sells_money_by_dev={developer:0 for developer in developers}\n",
    "for i in range(0,len(steam_games.index)-1):\n",
    "    money_sold=steam_games.loc[steam_games.index[i], 'sells']*steam_games.loc[steam_games.index[i], 'price']\n",
    "    sells_money_by_dev[steam_games.loc[steam_games.index[i], 'developer']]+=money_sold\n"
   ]
  },
  {
   "cell_type": "code",
   "execution_count": 52,
   "metadata": {},
   "outputs": [],
   "source": [
    "top10_money_made = dict(sorted(sells_money_by_dev.items(), key=lambda item: item[1], reverse=True)[:10])"
   ]
  },
  {
   "cell_type": "code",
   "execution_count": 53,
   "metadata": {},
   "outputs": [
    {
     "data": {
      "text/plain": [
       "{'PUBG Corporation': np.float64(2024250000.0),\n",
       " 'Valve': np.float64(1207110000.0),\n",
       " 'CAPCOM Co., Ltd.': np.float64(575786800.0),\n",
       " 'Bethesda Game Studios': np.float64(514164500.0),\n",
       " 'Rockstar North': np.float64(376946500.0),\n",
       " 'Firaxis Games;Aspyr (Mac);Aspyr (Linux)': np.float64(369875000.0),\n",
       " 'Paradox Development Studio': np.float64(358600500.0),\n",
       " 'IO Interactive A/S': np.float64(348210000.0),\n",
       " 'Studio Wildcard;Instinct Games;Efecto Studios;Virtual Basement LLC': np.float64(337425000.0),\n",
       " 'Ubisoft Montreal': np.float64(324171300.0)}"
      ]
     },
     "execution_count": 53,
     "metadata": {},
     "output_type": "execute_result"
    }
   ],
   "source": [
    "top10_money_made"
   ]
  },
  {
   "cell_type": "code",
   "execution_count": 54,
   "metadata": {},
   "outputs": [
    {
     "data": {
      "text/html": [
       "<div>\n",
       "<style scoped>\n",
       "    .dataframe tbody tr th:only-of-type {\n",
       "        vertical-align: middle;\n",
       "    }\n",
       "\n",
       "    .dataframe tbody tr th {\n",
       "        vertical-align: top;\n",
       "    }\n",
       "\n",
       "    .dataframe thead th {\n",
       "        text-align: right;\n",
       "    }\n",
       "</style>\n",
       "<table border=\"1\" class=\"dataframe\">\n",
       "  <thead>\n",
       "    <tr style=\"text-align: right;\">\n",
       "      <th></th>\n",
       "      <th>name</th>\n",
       "      <th>release_date</th>\n",
       "      <th>developer</th>\n",
       "      <th>achievements</th>\n",
       "      <th>positive_ratings</th>\n",
       "      <th>negative_ratings</th>\n",
       "      <th>avg_hours_per_user</th>\n",
       "      <th>price</th>\n",
       "      <th>sells</th>\n",
       "      <th>action</th>\n",
       "      <th>...</th>\n",
       "      <th>simulation</th>\n",
       "      <th>strategy</th>\n",
       "      <th>racing</th>\n",
       "      <th>free_to_play</th>\n",
       "      <th>early_access</th>\n",
       "      <th>total_ratings</th>\n",
       "      <th>%positive_reviews</th>\n",
       "      <th>%negative_reviews</th>\n",
       "      <th>positive_participation</th>\n",
       "      <th>negative_participation</th>\n",
       "    </tr>\n",
       "  </thead>\n",
       "  <tbody>\n",
       "    <tr>\n",
       "      <th>4712</th>\n",
       "      <td>ARK: Survival Evolved</td>\n",
       "      <td>2017-08-27</td>\n",
       "      <td>Studio Wildcard;Instinct Games;Efecto Studios;...</td>\n",
       "      <td>32</td>\n",
       "      <td>145035</td>\n",
       "      <td>66603</td>\n",
       "      <td>14154</td>\n",
       "      <td>44.99</td>\n",
       "      <td>7500000.0</td>\n",
       "      <td>True</td>\n",
       "      <td>...</td>\n",
       "      <td>False</td>\n",
       "      <td>False</td>\n",
       "      <td>False</td>\n",
       "      <td>False</td>\n",
       "      <td>False</td>\n",
       "      <td>211638</td>\n",
       "      <td>0.685298</td>\n",
       "      <td>0.314702</td>\n",
       "      <td>0.019338</td>\n",
       "      <td>0.00888</td>\n",
       "    </tr>\n",
       "  </tbody>\n",
       "</table>\n",
       "<p>1 rows × 22 columns</p>\n",
       "</div>"
      ],
      "text/plain": [
       "                       name release_date  \\\n",
       "4712  ARK: Survival Evolved   2017-08-27   \n",
       "\n",
       "                                              developer  achievements  \\\n",
       "4712  Studio Wildcard;Instinct Games;Efecto Studios;...            32   \n",
       "\n",
       "      positive_ratings  negative_ratings  avg_hours_per_user  price  \\\n",
       "4712            145035             66603               14154  44.99   \n",
       "\n",
       "          sells  action  ...  simulation  strategy  racing  free_to_play  \\\n",
       "4712  7500000.0    True  ...       False     False   False         False   \n",
       "\n",
       "      early_access  total_ratings  %positive_reviews  %negative_reviews  \\\n",
       "4712         False         211638           0.685298           0.314702   \n",
       "\n",
       "      positive_participation  negative_participation  \n",
       "4712                0.019338                 0.00888  \n",
       "\n",
       "[1 rows x 22 columns]"
      ]
     },
     "execution_count": 54,
     "metadata": {},
     "output_type": "execute_result"
    }
   ],
   "source": [
    "steam_games.loc[steam_games['developer']=='Studio Wildcard;Instinct Games;Efecto Studios;Virtual Basement LLC',:]"
   ]
  },
  {
   "cell_type": "code",
   "execution_count": 55,
   "metadata": {},
   "outputs": [
    {
     "data": {
      "image/png": "[encoded data removed]",
      "text/plain": [
       "<Figure size 640x480 with 1 Axes>"
      ]
     },
     "metadata": {},
     "output_type": "display_data"
    }
   ],
   "source": [
    "plt.bar(*zip(*top10_money_made.items()))\n",
    "plt.xticks(rotation=45, ha='right')\n",
    "plt.gca().yaxis.set_major_formatter(FuncFormatter(lambda x, _: f'{x / 1e6:.0f}M'))\n",
    "plt.title(\"Top 10 seller developers\")  # Add a title\n",
    "plt.xlabel(\"Developer\")                   # Label for the x-axis\n",
    "plt.ylabel(\"Sells\")            # Label for the y-axis\n",
    "plt.show()"
   ]
  },
  {
   "cell_type": "code",
   "execution_count": 56,
   "metadata": {},
   "outputs": [
    {
     "data": {
      "text/html": [
       "<div>\n",
       "<style scoped>\n",
       "    .dataframe tbody tr th:only-of-type {\n",
       "        vertical-align: middle;\n",
       "    }\n",
       "\n",
       "    .dataframe tbody tr th {\n",
       "        vertical-align: top;\n",
       "    }\n",
       "\n",
       "    .dataframe thead th {\n",
       "        text-align: right;\n",
       "    }\n",
       "</style>\n",
       "<table border=\"1\" class=\"dataframe\">\n",
       "  <thead>\n",
       "    <tr style=\"text-align: right;\">\n",
       "      <th></th>\n",
       "      <th>name</th>\n",
       "      <th>release_date</th>\n",
       "      <th>developer</th>\n",
       "      <th>achievements</th>\n",
       "      <th>positive_ratings</th>\n",
       "      <th>negative_ratings</th>\n",
       "      <th>avg_hours_per_user</th>\n",
       "      <th>price</th>\n",
       "      <th>sells</th>\n",
       "      <th>action</th>\n",
       "      <th>...</th>\n",
       "      <th>simulation</th>\n",
       "      <th>strategy</th>\n",
       "      <th>racing</th>\n",
       "      <th>free_to_play</th>\n",
       "      <th>early_access</th>\n",
       "      <th>total_ratings</th>\n",
       "      <th>%positive_reviews</th>\n",
       "      <th>%negative_reviews</th>\n",
       "      <th>positive_participation</th>\n",
       "      <th>negative_participation</th>\n",
       "    </tr>\n",
       "  </thead>\n",
       "  <tbody>\n",
       "    <tr>\n",
       "      <th>26401</th>\n",
       "      <td>Bot War</td>\n",
       "      <td>2019-02-25</td>\n",
       "      <td>James Richardson</td>\n",
       "      <td>0</td>\n",
       "      <td>2</td>\n",
       "      <td>0</td>\n",
       "      <td>0</td>\n",
       "      <td>5.19</td>\n",
       "      <td>10000.0</td>\n",
       "      <td>True</td>\n",
       "      <td>...</td>\n",
       "      <td>False</td>\n",
       "      <td>False</td>\n",
       "      <td>False</td>\n",
       "      <td>False</td>\n",
       "      <td>False</td>\n",
       "      <td>2</td>\n",
       "      <td>1.0</td>\n",
       "      <td>0.0</td>\n",
       "      <td>0.0002</td>\n",
       "      <td>0.0</td>\n",
       "    </tr>\n",
       "  </tbody>\n",
       "</table>\n",
       "<p>1 rows × 22 columns</p>\n",
       "</div>"
      ],
      "text/plain": [
       "          name release_date         developer  achievements  positive_ratings  \\\n",
       "26401  Bot War   2019-02-25  James Richardson             0                 2   \n",
       "\n",
       "       negative_ratings  avg_hours_per_user  price    sells  action  ...  \\\n",
       "26401                 0                   0   5.19  10000.0    True  ...   \n",
       "\n",
       "       simulation  strategy  racing  free_to_play  early_access  \\\n",
       "26401       False     False   False         False         False   \n",
       "\n",
       "       total_ratings  %positive_reviews  %negative_reviews  \\\n",
       "26401              2                1.0                0.0   \n",
       "\n",
       "       positive_participation  negative_participation  \n",
       "26401                  0.0002                     0.0  \n",
       "\n",
       "[1 rows x 22 columns]"
      ]
     },
     "execution_count": 56,
     "metadata": {},
     "output_type": "execute_result"
    }
   ],
   "source": [
    "steam_games.sample()"
   ]
  },
  {
   "cell_type": "code",
   "execution_count": 57,
   "metadata": {},
   "outputs": [],
   "source": [
    "steam_games['release_date']=pd.to_datetime(steam_games['release_date'])"
   ]
  },
  {
   "cell_type": "code",
   "execution_count": 58,
   "metadata": {},
   "outputs": [
    {
     "data": {
      "text/plain": [
       "<Axes: xlabel='release_date'>"
      ]
     },
     "execution_count": 58,
     "metadata": {},
     "output_type": "execute_result"
    },
    {
     "data": {
      "image/png": "[encoded data removed]",
      "text/plain": [
       "<Figure size 640x480 with 1 Axes>"
      ]
     },
     "metadata": {},
     "output_type": "display_data"
    }
   ],
   "source": [
    "steam_games['release_date'].dt.month_name().value_counts().sort_values(ascending=False).plot(kind='bar')\n"
   ]
  },
  {
   "cell_type": "code",
   "execution_count": 59,
   "metadata": {},
   "outputs": [
    {
     "name": "stdout",
     "output_type": "stream",
     "text": [
      "release_date\n",
      "1997         0\n",
      "1998         0\n",
      "1999         0\n",
      "2000         0\n",
      "2001         0\n",
      "2002         0\n",
      "2003         0\n",
      "2004       180\n",
      "2005         0\n",
      "2006       145\n",
      "2007       568\n",
      "2008       787\n",
      "2009      2065\n",
      "2010      3711\n",
      "2011      6365\n",
      "2012      9823\n",
      "2013     15887\n",
      "2014     30908\n",
      "2015     49876\n",
      "2016     84153\n",
      "2017    472998\n",
      "2018    518253\n",
      "2019     29394\n",
      "Name: achievements, dtype: int64\n"
     ]
    }
   ],
   "source": [
    "achievement_by_year=steam_games.groupby(steam_games['release_date'].dt.year)['achievements'].sum()\n",
    "print(achievement_by_year)"
   ]
  },
  {
   "cell_type": "code",
   "execution_count": 60,
   "metadata": {},
   "outputs": [
    {
     "data": {
      "text/plain": [
       "<Axes: xlabel='release_date'>"
      ]
     },
     "execution_count": 60,
     "metadata": {},
     "output_type": "execute_result"
    },
    {
     "data": {
      "image/png": "[encoded data removed]",
      "text/plain": [
       "<Figure size 640x480 with 1 Axes>"
      ]
     },
     "metadata": {},
     "output_type": "display_data"
    }
   ],
   "source": [
    "achievement_by_year.plot(kind='line')"
   ]
  },
  {
   "cell_type": "code",
   "execution_count": 61,
   "metadata": {},
   "outputs": [
    {
     "data": {
      "text/plain": [
       "<Axes: xlabel='release_date'>"
      ]
     },
     "execution_count": 61,
     "metadata": {},
     "output_type": "execute_result"
    },
    {
     "data": {
      "image/png": "[encoded data removed]",
      "text/plain": [
       "<Figure size 640x480 with 1 Axes>"
      ]
     },
     "metadata": {},
     "output_type": "display_data"
    }
   ],
   "source": [
    "achievement_by_year[:-1].plot(kind='line')"
   ]
  },
  {
   "cell_type": "code",
   "execution_count": 62,
   "metadata": {},
   "outputs": [
    {
     "data": {
      "text/plain": [
       "0                    Counter-Strike\n",
       "1             Team Fortress Classic\n",
       "2                     Day of Defeat\n",
       "3                Deathmatch Classic\n",
       "4         Half-Life: Opposing Force\n",
       "                    ...            \n",
       "27070               Room of Pandora\n",
       "27071                     Cyber Gun\n",
       "27072              Super Star Blast\n",
       "27073    New Yankee 7: Deer Hunters\n",
       "27074                     Rune Lord\n",
       "Name: name, Length: 27075, dtype: object"
      ]
     },
     "execution_count": 62,
     "metadata": {},
     "output_type": "execute_result"
    }
   ],
   "source": [
    "steam_games['name']"
   ]
  },
  {
   "cell_type": "code",
   "execution_count": 63,
   "metadata": {},
   "outputs": [],
   "source": [
    "logros_juegos_by_year=pd.pivot_table(steam_games,  index=steam_games['release_date'].dt.year, values=['achievements', 'name'], aggfunc={'achievements':'sum','name': 'count'})\n",
    "logros_juegos_by_year.columns=(['Cantidad_logros', 'Cantidad_Juegos'])"
   ]
  },
  {
   "cell_type": "code",
   "execution_count": 64,
   "metadata": {},
   "outputs": [
    {
     "name": "stdout",
     "output_type": "stream",
     "text": [
      "              Cantidad_logros  Cantidad_Juegos\n",
      "release_date                                  \n",
      "1997                        0                1\n",
      "1998                        0                1\n",
      "1999                        0                2\n",
      "2000                        0                2\n",
      "2001                        0                4\n",
      "2002                        0                1\n",
      "2003                        0                3\n",
      "2004                      180                6\n",
      "2005                        0                6\n",
      "2006                      145               48\n",
      "2007                      568               93\n",
      "2008                      787              145\n",
      "2009                     2065              305\n",
      "2010                     3711              238\n",
      "2011                     6365              239\n",
      "2012                     9823              320\n",
      "2013                    15887              418\n",
      "2014                    30908             1555\n",
      "2015                    49876             2597\n",
      "2016                    84153             4361\n",
      "2017                   472998             6357\n",
      "2018                   518253             8160\n",
      "2019                    29394             2213\n"
     ]
    }
   ],
   "source": [
    "print(logros_juegos_by_year)"
   ]
  },
  {
   "cell_type": "code",
   "execution_count": 67,
   "metadata": {},
   "outputs": [
    {
     "data": {
      "text/plain": [
       "<Axes: xlabel='release_date'>"
      ]
     },
     "execution_count": 67,
     "metadata": {},
     "output_type": "execute_result"
    },
    {
     "data": {
      "image/png": "[encoded data removed]",
      "text/plain": [
       "<Figure size 640x480 with 1 Axes>"
      ]
     },
     "metadata": {},
     "output_type": "display_data"
    }
   ],
   "source": [
    "logros_juegos_by_year[:-1].plot(kind='line')"
   ]
  },
  {
   "cell_type": "code",
   "execution_count": 66,
   "metadata": {},
   "outputs": [
    {
     "data": {
      "image/png": "[encoded data removed]",
      "text/plain": [
       "<Figure size 800x600 with 2 Axes>"
      ]
     },
     "metadata": {},
     "output_type": "display_data"
    }
   ],
   "source": [
    "# Crear el gráfico\n",
    "fig, ax1 = plt.subplots(figsize=(8, 6))\n",
    "\n",
    "# Graficar la primera línea (cantidad_logros) en el primer eje y\n",
    "sns.lineplot(x='release_date', y='Cantidad_logros', data=logros_juegos_by_year, ax=ax1, color='b', label='Cantidad_logros')\n",
    "ax1.set_ylabel('Cantidad de logros', color='b', labelpad=15)\n",
    "ax1.set_xlabel('Año')\n",
    "ax1.tick_params(axis='y', labelcolor='b')\n",
    "\n",
    "# Crear el segundo eje y\n",
    "ax2 = ax1.twinx()\n",
    "\n",
    "# Graficar la segunda línea (cantidad_juegos) en el segundo eje y\n",
    "sns.lineplot(x='release_date', y='Cantidad_Juegos', data=logros_juegos_by_year, ax=ax2, color='g', label='Cantidad juegos')\n",
    "ax2.set_ylabel('Cantidad de juegos', color='g')\n",
    "ax2.tick_params(axis='y', labelcolor='g')\n",
    "\n",
    "ax2.legend(loc='upper right')\n",
    "\n",
    "\n",
    "fig.tight_layout()\n",
    "# Mostrar el gráfico\n",
    "plt.title('Cantidad de logros y juegos publicados por año')\n",
    "plt.show()"
   ]
  }
 ],
 "metadata": {
  "kernelspec": {
   "display_name": "Python 3",
   "language": "python",
   "name": "python3"
  },
  "language_info": {
   "codemirror_mode": {
    "name": "ipython",
    "version": 3
   },
   "file_extension": ".py",
   "mimetype": "text/x-python",
   "name": "python",
   "nbconvert_exporter": "python",
   "pygments_lexer": "ipython3",
   "version": "3.12.6"
  }
 },
 "nbformat": 4,
 "nbformat_minor": 2
}
